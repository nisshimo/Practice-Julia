{
 "cells": [
  {
   "cell_type": "markdown",
   "metadata": {},
   "source": [
    "# 3 一般化線形モデル(GLM) -ポアソン回帰-"
   ]
  },
  {
   "cell_type": "code",
   "execution_count": 1,
   "metadata": {},
   "outputs": [
    {
     "ename": "ArgumentError",
     "evalue": "ArgumentError: Package GLM not found in current path:\n- Run `import Pkg; Pkg.add(\"GLM\")` to install the GLM package.\n",
     "output_type": "error",
     "traceback": [
      "ArgumentError: Package GLM not found in current path:\n- Run `import Pkg; Pkg.add(\"GLM\")` to install the GLM package.\n",
      "",
      "Stacktrace:",
      " [1] require(::Module, ::Symbol) at ./loading.jl:823",
      " [2] top-level scope at In[1]:3"
     ]
    }
   ],
   "source": [
    "using CSV\n",
    "using DataFrames\n",
    "using GLM\n",
    "# using LaTeXStrings\n",
    "using Plots\n",
    "using StatsBase\n",
    "using StatsPlots"
   ]
  },
  {
   "cell_type": "code",
   "execution_count": 1,
   "metadata": {},
   "outputs": [
    {
     "name": "stdout",
     "output_type": "stream",
     "text": [
      "\u001b[32m\u001b[1m  Updating\u001b[22m\u001b[39m registry at `~/.julia/registries/General`\n",
      "\u001b[32m\u001b[1m  Updating\u001b[22m\u001b[39m git-repo `https://github.com/JuliaRegistries/General.git`\n",
      "\u001b[2K\u001b[?25h[1mFetching:\u001b[22m\u001b[39m [========================================>]  100.0 %.0 %>                       ]  42.2 %============================>            ]  68.9 %]  95.4 %\u001b[32m\u001b[1m Resolving\u001b[22m\u001b[39m package versions...\n"
     ]
    },
    {
     "ename": "Pkg.Types.ResolverError",
     "evalue": "Unsatisfiable requirements detected for package Distributions [31c24e10]:\n Distributions [31c24e10] log:\n ├─possible versions are: [0.1.0-0.1.4, 0.2.0-0.2.13, 0.3.0, 0.6.4-0.6.7, 0.7.0-0.7.6, 0.8.0-0.8.10, 0.9.0, 0.10.0-0.10.2, 0.11.0-0.11.1, 0.12.0-0.12.5, 0.13.0, 0.14.0-0.14.2, 0.15.0, 0.16.0-0.16.4, 0.17.0, 0.18.0, 0.19.1-0.19.2] or uninstalled\n ├─restricted to versions 0.19.2 by an explicit requirement, leaving only versions 0.19.2\n └─restricted by compatibility requirements with GLM [38e38edf] to versions: [0.16.0-0.16.4, 0.17.0, 0.18.0] — no versions left\n   └─GLM [38e38edf] log:\n     ├─possible versions are: [0.2.0-0.2.5, 0.3.0-0.3.2, 0.4.0-0.4.8, 0.5.0-0.5.6, 0.6.0-0.6.1, 0.7.0, 0.8.0-0.8.1, 0.9.0, 0.10.0-0.10.1, 0.11.0, 1.0.0-1.0.2, 1.1.0-1.1.1] or uninstalled\n     ├─restricted to versions * by an explicit requirement, leaving only versions [0.2.0-0.2.5, 0.3.0-0.3.2, 0.4.0-0.4.8, 0.5.0-0.5.6, 0.6.0-0.6.1, 0.7.0, 0.8.0-0.8.1, 0.9.0, 0.10.0-0.10.1, 0.11.0, 1.0.0-1.0.2, 1.1.0-1.1.1]\n     ├─restricted by compatibility requirements with StatsBase [2913bbd2] to versions: [0.11.0, 1.0.0-1.0.2, 1.1.0-1.1.1] or uninstalled, leaving only versions: [0.11.0, 1.0.0-1.0.2, 1.1.0-1.1.1]\n     │ └─StatsBase [2913bbd2] log:\n     │   ├─possible versions are: [0.1.0, 0.2.0-0.2.1, 0.2.3-0.2.10, 0.3.0-0.3.13, 0.4.0-0.4.4, 0.5.0-0.5.3, 0.6.0-0.6.16, 0.7.0-0.7.4, 0.8.0-0.8.3, 0.9.0, 0.10.0, 0.11.0-0.11.1, 0.12.0, 0.13.0-0.13.1, 0.14.0-0.14.1, 0.15.0, 0.16.0-0.16.1, 0.17.0, 0.18.0, 0.19.0-0.19.5, 0.20.0-0.20.1, 0.22.0, 0.23.0-0.23.1, 0.24.0, 0.25.0, 0.26.0, 0.27.0, 0.28.0-0.28.1, 0.29.0, 0.30.0] or uninstalled\n     │   └─restricted to versions 0.30.0 by an explicit requirement, leaving only versions 0.30.0\n     └─restricted by julia compatibility requirements to versions: [1.0.0-1.0.2, 1.1.0-1.1.1] or uninstalled, leaving only versions: [1.0.0-1.0.2, 1.1.0-1.1.1]",
     "output_type": "error",
     "traceback": [
      "Unsatisfiable requirements detected for package Distributions [31c24e10]:\n Distributions [31c24e10] log:\n ├─possible versions are: [0.1.0-0.1.4, 0.2.0-0.2.13, 0.3.0, 0.6.4-0.6.7, 0.7.0-0.7.6, 0.8.0-0.8.10, 0.9.0, 0.10.0-0.10.2, 0.11.0-0.11.1, 0.12.0-0.12.5, 0.13.0, 0.14.0-0.14.2, 0.15.0, 0.16.0-0.16.4, 0.17.0, 0.18.0, 0.19.1-0.19.2] or uninstalled\n ├─restricted to versions 0.19.2 by an explicit requirement, leaving only versions 0.19.2\n └─restricted by compatibility requirements with GLM [38e38edf] to versions: [0.16.0-0.16.4, 0.17.0, 0.18.0] — no versions left\n   └─GLM [38e38edf] log:\n     ├─possible versions are: [0.2.0-0.2.5, 0.3.0-0.3.2, 0.4.0-0.4.8, 0.5.0-0.5.6, 0.6.0-0.6.1, 0.7.0, 0.8.0-0.8.1, 0.9.0, 0.10.0-0.10.1, 0.11.0, 1.0.0-1.0.2, 1.1.0-1.1.1] or uninstalled\n     ├─restricted to versions * by an explicit requirement, leaving only versions [0.2.0-0.2.5, 0.3.0-0.3.2, 0.4.0-0.4.8, 0.5.0-0.5.6, 0.6.0-0.6.1, 0.7.0, 0.8.0-0.8.1, 0.9.0, 0.10.0-0.10.1, 0.11.0, 1.0.0-1.0.2, 1.1.0-1.1.1]\n     ├─restricted by compatibility requirements with StatsBase [2913bbd2] to versions: [0.11.0, 1.0.0-1.0.2, 1.1.0-1.1.1] or uninstalled, leaving only versions: [0.11.0, 1.0.0-1.0.2, 1.1.0-1.1.1]\n     │ └─StatsBase [2913bbd2] log:\n     │   ├─possible versions are: [0.1.0, 0.2.0-0.2.1, 0.2.3-0.2.10, 0.3.0-0.3.13, 0.4.0-0.4.4, 0.5.0-0.5.3, 0.6.0-0.6.16, 0.7.0-0.7.4, 0.8.0-0.8.3, 0.9.0, 0.10.0, 0.11.0-0.11.1, 0.12.0, 0.13.0-0.13.1, 0.14.0-0.14.1, 0.15.0, 0.16.0-0.16.1, 0.17.0, 0.18.0, 0.19.0-0.19.5, 0.20.0-0.20.1, 0.22.0, 0.23.0-0.23.1, 0.24.0, 0.25.0, 0.26.0, 0.27.0, 0.28.0-0.28.1, 0.29.0, 0.30.0] or uninstalled\n     │   └─restricted to versions 0.30.0 by an explicit requirement, leaving only versions 0.30.0\n     └─restricted by julia compatibility requirements to versions: [1.0.0-1.0.2, 1.1.0-1.1.1] or uninstalled, leaving only versions: [1.0.0-1.0.2, 1.1.0-1.1.1]",
      "",
      "Stacktrace:",
      " [1] #propagate_constraints!#61(::Bool, ::Function, ::Pkg.GraphType.Graph, ::Set{Int64}) at /Users/osx/buildbot/slave/package_osx64/build/usr/share/julia/stdlib/v1.1/Pkg/src/GraphType.jl:1005",
      " [2] propagate_constraints! at /Users/osx/buildbot/slave/package_osx64/build/usr/share/julia/stdlib/v1.1/Pkg/src/GraphType.jl:946 [inlined]",
      " [3] #simplify_graph!#121(::Bool, ::Function, ::Pkg.GraphType.Graph, ::Set{Int64}) at /Users/osx/buildbot/slave/package_osx64/build/usr/share/julia/stdlib/v1.1/Pkg/src/GraphType.jl:1460",
      " [4] simplify_graph! at /Users/osx/buildbot/slave/package_osx64/build/usr/share/julia/stdlib/v1.1/Pkg/src/GraphType.jl:1460 [inlined] (repeats 2 times)",
      " [5] resolve_versions!(::Pkg.Types.Context, ::Array{Pkg.Types.PackageSpec,1}, ::Nothing) at /Users/osx/buildbot/slave/package_osx64/build/usr/share/julia/stdlib/v1.1/Pkg/src/Operations.jl:371",
      " [6] resolve_versions! at /Users/osx/buildbot/slave/package_osx64/build/usr/share/julia/stdlib/v1.1/Pkg/src/Operations.jl:315 [inlined]",
      " [7] #add_or_develop#63(::Array{Base.UUID,1}, ::Symbol, ::Function, ::Pkg.Types.Context, ::Array{Pkg.Types.PackageSpec,1}) at /Users/osx/buildbot/slave/package_osx64/build/usr/share/julia/stdlib/v1.1/Pkg/src/Operations.jl:1171",
      " [8] #add_or_develop at ./none:0 [inlined]",
      " [9] #add_or_develop#15(::Symbol, ::Bool, ::Base.Iterators.Pairs{Union{},Union{},Tuple{},NamedTuple{(),Tuple{}}}, ::Function, ::Pkg.Types.Context, ::Array{Pkg.Types.PackageSpec,1}) at /Users/osx/buildbot/slave/package_osx64/build/usr/share/julia/stdlib/v1.1/Pkg/src/API.jl:54",
      " [10] #add_or_develop at ./none:0 [inlined]",
      " [11] #add_or_develop#14 at /Users/osx/buildbot/slave/package_osx64/build/usr/share/julia/stdlib/v1.1/Pkg/src/API.jl:31 [inlined]",
      " [12] #add_or_develop at ./none:0 [inlined]",
      " [13] #add_or_develop#13 at /Users/osx/buildbot/slave/package_osx64/build/usr/share/julia/stdlib/v1.1/Pkg/src/API.jl:29 [inlined]",
      " [14] #add_or_develop at ./none:0 [inlined]",
      " [15] #add_or_develop#12(::Base.Iterators.Pairs{Symbol,Symbol,Tuple{Symbol},NamedTuple{(:mode,),Tuple{Symbol}}}, ::Function, ::String) at /Users/osx/buildbot/slave/package_osx64/build/usr/share/julia/stdlib/v1.1/Pkg/src/API.jl:28",
      " [16] #add_or_develop at ./none:0 [inlined]",
      " [17] #add#20 at /Users/osx/buildbot/slave/package_osx64/build/usr/share/julia/stdlib/v1.1/Pkg/src/API.jl:59 [inlined]",
      " [18] add(::String) at /Users/osx/buildbot/slave/package_osx64/build/usr/share/julia/stdlib/v1.1/Pkg/src/API.jl:59",
      " [19] top-level scope at In[1]:2"
     ]
    }
   ],
   "source": [
    "import Pkg\n",
    "Pkg.add(\"GLM\")"
   ]
  },
  {
   "cell_type": "code",
   "execution_count": 56,
   "metadata": {},
   "outputs": [
    {
     "name": "stdout",
     "output_type": "stream",
     "text": [
      "\u001b[32m\u001b[1m  Updating\u001b[22m\u001b[39m registry at `~/.julia/registries/General`\n",
      "\u001b[32m\u001b[1m  Updating\u001b[22m\u001b[39m git-repo `https://github.com/JuliaRegistries/General.git`\n",
      "\u001b[?25l\u001b[2K\u001b[?25h\u001b[32m\u001b[1m Resolving\u001b[22m\u001b[39m package versions...\n",
      "\u001b[32m\u001b[1m  Updating\u001b[22m\u001b[39m `~/.julia/environments/v1.1/Project.toml`\n",
      "\u001b[90m [no changes]\u001b[39m\n",
      "\u001b[32m\u001b[1m  Updating\u001b[22m\u001b[39m `~/.julia/environments/v1.1/Manifest.toml`\n",
      "\u001b[90m [no changes]\u001b[39m\n"
     ]
    }
   ],
   "source": [
    "]update"
   ]
  },
  {
   "cell_type": "code",
   "execution_count": 58,
   "metadata": {},
   "outputs": [
    {
     "name": "stdout",
     "output_type": "stream",
     "text": [
      "\u001b[32m\u001b[1m   Cloning\u001b[22m\u001b[39m git-repo `https://github.com/JuliaPlots/StatsPlots.jl.git`\n",
      "\u001b[2K\u001b[?25h\u001b[32m\u001b[1m  Updating\u001b[22m\u001b[39m git-repo `https://github.com/JuliaPlots/StatsPlots.jl.git`                                ]  16.1 %18.6 %==============>                          ]  34.8 %50.7 %>         ]  76.0 % [=====================================>   ]  92.1 %\n",
      "\u001b[2K\u001b[?25h[1mFetching:\u001b[22m\u001b[39m [========================================>]  100.0 %.0 %>                    ]  47.5 %=================================>       ]  80.6 %\u001b[32m\u001b[1m Resolving\u001b[22m\u001b[39m package versions...\n"
     ]
    },
    {
     "ename": "Pkg.Types.ResolverError",
     "evalue": "Unsatisfiable requirements detected for package Distributions [31c24e10]:\n Distributions [31c24e10] log:\n ├─possible versions are: [0.1.0-0.1.4, 0.2.0-0.2.13, 0.3.0, 0.6.4-0.6.7, 0.7.0-0.7.6, 0.8.0-0.8.10, 0.9.0, 0.10.0-0.10.2, 0.11.0-0.11.1, 0.12.0-0.12.5, 0.13.0, 0.14.0-0.14.2, 0.15.0, 0.16.0-0.16.4, 0.17.0, 0.18.0, 0.19.1-0.19.2] or uninstalled\n ├─restricted to versions 0.0.0-* by StatsPlots [f3b207a7], leaving only versions [0.1.0-0.1.4, 0.2.0-0.2.13, 0.3.0, 0.6.4-0.6.7, 0.7.0-0.7.6, 0.8.0-0.8.10, 0.9.0, 0.10.0-0.10.2, 0.11.0-0.11.1, 0.12.0-0.12.5, 0.13.0, 0.14.0-0.14.2, 0.15.0, 0.16.0-0.16.4, 0.17.0, 0.18.0, 0.19.1-0.19.2]\n │ └─StatsPlots [f3b207a7] log:\n │   ├─possible versions are: 0.10.2 or uninstalled\n │   └─StatsPlots [f3b207a7] is fixed to version 0.10.2+\n ├─restricted to versions 0.19.2 by an explicit requirement, leaving only versions 0.19.2\n └─restricted by compatibility requirements with KernelDensity [5ab0869b] to versions: [0.1.0-0.1.4, 0.2.0-0.2.13, 0.3.0, 0.6.4-0.6.7, 0.7.0-0.7.6, 0.8.0-0.8.10, 0.9.0, 0.10.0-0.10.2, 0.11.0-0.11.1, 0.12.0-0.12.5, 0.13.0, 0.14.0-0.14.2, 0.15.0, 0.16.0-0.16.4, 0.17.0, 0.18.0] — no versions left\n   └─KernelDensity [5ab0869b] log:\n     ├─possible versions are: [0.0.1-0.0.2, 0.1.0-0.1.2, 0.2.0, 0.3.0-0.3.2, 0.4.0-0.4.1, 0.5.0-0.5.1] or uninstalled\n     └─restricted to versions 0.0.0-* by StatsPlots [f3b207a7], leaving only versions [0.0.1-0.0.2, 0.1.0-0.1.2, 0.2.0, 0.3.0-0.3.2, 0.4.0-0.4.1, 0.5.0-0.5.1]\n       └─StatsPlots [f3b207a7] log: see above",
     "output_type": "error",
     "traceback": [
      "Unsatisfiable requirements detected for package Distributions [31c24e10]:\n Distributions [31c24e10] log:\n ├─possible versions are: [0.1.0-0.1.4, 0.2.0-0.2.13, 0.3.0, 0.6.4-0.6.7, 0.7.0-0.7.6, 0.8.0-0.8.10, 0.9.0, 0.10.0-0.10.2, 0.11.0-0.11.1, 0.12.0-0.12.5, 0.13.0, 0.14.0-0.14.2, 0.15.0, 0.16.0-0.16.4, 0.17.0, 0.18.0, 0.19.1-0.19.2] or uninstalled\n ├─restricted to versions 0.0.0-* by StatsPlots [f3b207a7], leaving only versions [0.1.0-0.1.4, 0.2.0-0.2.13, 0.3.0, 0.6.4-0.6.7, 0.7.0-0.7.6, 0.8.0-0.8.10, 0.9.0, 0.10.0-0.10.2, 0.11.0-0.11.1, 0.12.0-0.12.5, 0.13.0, 0.14.0-0.14.2, 0.15.0, 0.16.0-0.16.4, 0.17.0, 0.18.0, 0.19.1-0.19.2]\n │ └─StatsPlots [f3b207a7] log:\n │   ├─possible versions are: 0.10.2 or uninstalled\n │   └─StatsPlots [f3b207a7] is fixed to version 0.10.2+\n ├─restricted to versions 0.19.2 by an explicit requirement, leaving only versions 0.19.2\n └─restricted by compatibility requirements with KernelDensity [5ab0869b] to versions: [0.1.0-0.1.4, 0.2.0-0.2.13, 0.3.0, 0.6.4-0.6.7, 0.7.0-0.7.6, 0.8.0-0.8.10, 0.9.0, 0.10.0-0.10.2, 0.11.0-0.11.1, 0.12.0-0.12.5, 0.13.0, 0.14.0-0.14.2, 0.15.0, 0.16.0-0.16.4, 0.17.0, 0.18.0] — no versions left\n   └─KernelDensity [5ab0869b] log:\n     ├─possible versions are: [0.0.1-0.0.2, 0.1.0-0.1.2, 0.2.0, 0.3.0-0.3.2, 0.4.0-0.4.1, 0.5.0-0.5.1] or uninstalled\n     └─restricted to versions 0.0.0-* by StatsPlots [f3b207a7], leaving only versions [0.0.1-0.0.2, 0.1.0-0.1.2, 0.2.0, 0.3.0-0.3.2, 0.4.0-0.4.1, 0.5.0-0.5.1]\n       └─StatsPlots [f3b207a7] log: see above",
      "",
      "Stacktrace:",
      " [1] #propagate_constraints!#61(::Bool, ::Function, ::Pkg.GraphType.Graph, ::Set{Int64}) at /Users/osx/buildbot/slave/package_osx64/build/usr/share/julia/stdlib/v1.1/Pkg/src/GraphType.jl:1005",
      " [2] propagate_constraints! at /Users/osx/buildbot/slave/package_osx64/build/usr/share/julia/stdlib/v1.1/Pkg/src/GraphType.jl:946 [inlined]",
      " [3] #simplify_graph!#121(::Bool, ::Function, ::Pkg.GraphType.Graph, ::Set{Int64}) at /Users/osx/buildbot/slave/package_osx64/build/usr/share/julia/stdlib/v1.1/Pkg/src/GraphType.jl:1460",
      " [4] simplify_graph! at /Users/osx/buildbot/slave/package_osx64/build/usr/share/julia/stdlib/v1.1/Pkg/src/GraphType.jl:1460 [inlined] (repeats 2 times)",
      " [5] resolve_versions!(::Pkg.Types.Context, ::Array{Pkg.Types.PackageSpec,1}, ::Nothing) at /Users/osx/buildbot/slave/package_osx64/build/usr/share/julia/stdlib/v1.1/Pkg/src/Operations.jl:371",
      " [6] resolve_versions! at /Users/osx/buildbot/slave/package_osx64/build/usr/share/julia/stdlib/v1.1/Pkg/src/Operations.jl:315 [inlined]",
      " [7] #add_or_develop#63(::Array{Base.UUID,1}, ::Symbol, ::Function, ::Pkg.Types.Context, ::Array{Pkg.Types.PackageSpec,1}) at /Users/osx/buildbot/slave/package_osx64/build/usr/share/julia/stdlib/v1.1/Pkg/src/Operations.jl:1171",
      " [8] #add_or_develop at ./none:0 [inlined]",
      " [9] #add_or_develop#15(::Symbol, ::Bool, ::Base.Iterators.Pairs{Union{},Union{},Tuple{},NamedTuple{(),Tuple{}}}, ::Function, ::Pkg.Types.Context, ::Array{Pkg.Types.PackageSpec,1}) at /Users/osx/buildbot/slave/package_osx64/build/usr/share/julia/stdlib/v1.1/Pkg/src/API.jl:54",
      " [10] (::getfield(Pkg.API, Symbol(\"#kw##add_or_develop\")))(::NamedTuple{(:mode,),Tuple{Symbol}}, ::typeof(Pkg.API.add_or_develop), ::Pkg.Types.Context, ::Array{Pkg.Types.PackageSpec,1}) at ./none:0",
      " [11] do_add!(::Dict{Symbol,Any}, ::Array{Pkg.Types.PackageSpec,1}, ::Dict{Symbol,Any}) at /Users/osx/buildbot/slave/package_osx64/build/usr/share/julia/stdlib/v1.1/Pkg/src/REPLMode.jl:659",
      " [12] #invokelatest#1(::Base.Iterators.Pairs{Union{},Union{},Tuple{},NamedTuple{(),Tuple{}}}, ::Function, ::Any, ::Any, ::Vararg{Any,N} where N) at ./essentials.jl:742",
      " [13] invokelatest(::Any, ::Any, ::Vararg{Any,N} where N) at ./essentials.jl:741",
      " [14] do_cmd!(::Pkg.REPLMode.PkgCommand, ::IJulia.MiniREPL) at /Users/osx/buildbot/slave/package_osx64/build/usr/share/julia/stdlib/v1.1/Pkg/src/REPLMode.jl:561",
      " [15] #do_cmd#30(::Bool, ::Function, ::IJulia.MiniREPL, ::String) at /Users/osx/buildbot/slave/package_osx64/build/usr/share/julia/stdlib/v1.1/Pkg/src/REPLMode.jl:536",
      " [16] (::getfield(Pkg.REPLMode, Symbol(\"#kw##do_cmd\")))(::NamedTuple{(:do_rethrow,),Tuple{Bool}}, ::typeof(Pkg.REPLMode.do_cmd), ::IJulia.MiniREPL, ::String) at ./none:0",
      " [17] top-level scope at In[58]:1"
     ]
    }
   ],
   "source": [
    "]add https://github.com/JuliaPlots/StatsPlots.jl.git"
   ]
  },
  {
   "cell_type": "markdown",
   "metadata": {},
   "source": [
    "## 3.2 観測されたデータの概要を調べる"
   ]
  },
  {
   "cell_type": "code",
   "execution_count": 17,
   "metadata": {},
   "outputs": [
    {
     "data": {
      "text/html": [
       "<table class=\"data-frame\"><thead><tr><th></th><th>y</th><th>x</th><th>f</th></tr><tr><th></th><th>Int64⍰</th><th>Float64⍰</th><th>String⍰</th></tr></thead><tbody><p>100 rows × 3 columns</p><tr><th>1</th><td>6</td><td>8.31</td><td>C</td></tr><tr><th>2</th><td>6</td><td>9.44</td><td>C</td></tr><tr><th>3</th><td>6</td><td>9.5</td><td>C</td></tr><tr><th>4</th><td>12</td><td>9.07</td><td>C</td></tr><tr><th>5</th><td>10</td><td>10.16</td><td>C</td></tr><tr><th>6</th><td>4</td><td>8.32</td><td>C</td></tr><tr><th>7</th><td>9</td><td>10.61</td><td>C</td></tr><tr><th>8</th><td>9</td><td>10.06</td><td>C</td></tr><tr><th>9</th><td>9</td><td>9.93</td><td>C</td></tr><tr><th>10</th><td>11</td><td>10.43</td><td>C</td></tr><tr><th>11</th><td>6</td><td>10.36</td><td>C</td></tr><tr><th>12</th><td>10</td><td>10.15</td><td>C</td></tr><tr><th>13</th><td>6</td><td>10.92</td><td>C</td></tr><tr><th>14</th><td>10</td><td>8.85</td><td>C</td></tr><tr><th>15</th><td>11</td><td>9.42</td><td>C</td></tr><tr><th>16</th><td>8</td><td>11.11</td><td>C</td></tr><tr><th>17</th><td>3</td><td>8.02</td><td>C</td></tr><tr><th>18</th><td>8</td><td>11.93</td><td>C</td></tr><tr><th>19</th><td>5</td><td>8.55</td><td>C</td></tr><tr><th>20</th><td>5</td><td>7.19</td><td>C</td></tr><tr><th>21</th><td>4</td><td>9.83</td><td>C</td></tr><tr><th>22</th><td>11</td><td>10.79</td><td>C</td></tr><tr><th>23</th><td>5</td><td>8.89</td><td>C</td></tr><tr><th>24</th><td>10</td><td>10.09</td><td>C</td></tr><tr><th>25</th><td>6</td><td>11.63</td><td>C</td></tr><tr><th>26</th><td>6</td><td>10.21</td><td>C</td></tr><tr><th>27</th><td>7</td><td>9.45</td><td>C</td></tr><tr><th>28</th><td>9</td><td>10.44</td><td>C</td></tr><tr><th>29</th><td>3</td><td>9.44</td><td>C</td></tr><tr><th>30</th><td>10</td><td>10.48</td><td>C</td></tr><tr><th>&vellip;</th><td>&vellip;</td><td>&vellip;</td><td>&vellip;</td></tr></tbody></table>"
      ],
      "text/latex": [
       "\\begin{tabular}{r|ccc}\n",
       "\t& y & x & f\\\\\n",
       "\t\\hline\n",
       "\t& Int64⍰ & Float64⍰ & String⍰\\\\\n",
       "\t\\hline\n",
       "\t1 & 6 & 8.31 & C \\\\\n",
       "\t2 & 6 & 9.44 & C \\\\\n",
       "\t3 & 6 & 9.5 & C \\\\\n",
       "\t4 & 12 & 9.07 & C \\\\\n",
       "\t5 & 10 & 10.16 & C \\\\\n",
       "\t6 & 4 & 8.32 & C \\\\\n",
       "\t7 & 9 & 10.61 & C \\\\\n",
       "\t8 & 9 & 10.06 & C \\\\\n",
       "\t9 & 9 & 9.93 & C \\\\\n",
       "\t10 & 11 & 10.43 & C \\\\\n",
       "\t11 & 6 & 10.36 & C \\\\\n",
       "\t12 & 10 & 10.15 & C \\\\\n",
       "\t13 & 6 & 10.92 & C \\\\\n",
       "\t14 & 10 & 8.85 & C \\\\\n",
       "\t15 & 11 & 9.42 & C \\\\\n",
       "\t16 & 8 & 11.11 & C \\\\\n",
       "\t17 & 3 & 8.02 & C \\\\\n",
       "\t18 & 8 & 11.93 & C \\\\\n",
       "\t19 & 5 & 8.55 & C \\\\\n",
       "\t20 & 5 & 7.19 & C \\\\\n",
       "\t21 & 4 & 9.83 & C \\\\\n",
       "\t22 & 11 & 10.79 & C \\\\\n",
       "\t23 & 5 & 8.89 & C \\\\\n",
       "\t24 & 10 & 10.09 & C \\\\\n",
       "\t25 & 6 & 11.63 & C \\\\\n",
       "\t26 & 6 & 10.21 & C \\\\\n",
       "\t27 & 7 & 9.45 & C \\\\\n",
       "\t28 & 9 & 10.44 & C \\\\\n",
       "\t29 & 3 & 9.44 & C \\\\\n",
       "\t30 & 10 & 10.48 & C \\\\\n",
       "\t$\\dots$ & $\\dots$ & $\\dots$ & $\\dots$ \\\\\n",
       "\\end{tabular}\n"
      ],
      "text/plain": [
       "100×3 DataFrame\n",
       "│ Row │ y      │ x        │ f       │\n",
       "│     │ \u001b[90mInt64⍰\u001b[39m │ \u001b[90mFloat64⍰\u001b[39m │ \u001b[90mString⍰\u001b[39m │\n",
       "├─────┼────────┼──────────┼─────────┤\n",
       "│ 1   │ 6      │ 8.31     │ C       │\n",
       "│ 2   │ 6      │ 9.44     │ C       │\n",
       "│ 3   │ 6      │ 9.5      │ C       │\n",
       "│ 4   │ 12     │ 9.07     │ C       │\n",
       "│ 5   │ 10     │ 10.16    │ C       │\n",
       "│ 6   │ 4      │ 8.32     │ C       │\n",
       "│ 7   │ 9      │ 10.61    │ C       │\n",
       "│ 8   │ 9      │ 10.06    │ C       │\n",
       "│ 9   │ 9      │ 9.93     │ C       │\n",
       "│ 10  │ 11     │ 10.43    │ C       │\n",
       "⋮\n",
       "│ 90  │ 5      │ 8.85     │ T       │\n",
       "│ 91  │ 6      │ 11.2     │ T       │\n",
       "│ 92  │ 5      │ 9.86     │ T       │\n",
       "│ 93  │ 8      │ 11.54    │ T       │\n",
       "│ 94  │ 5      │ 10.03    │ T       │\n",
       "│ 95  │ 9      │ 11.88    │ T       │\n",
       "│ 96  │ 8      │ 9.15     │ T       │\n",
       "│ 97  │ 6      │ 8.52     │ T       │\n",
       "│ 98  │ 8      │ 10.24    │ T       │\n",
       "│ 99  │ 7      │ 10.86    │ T       │\n",
       "│ 100 │ 9      │ 9.97     │ T       │"
      ]
     },
     "execution_count": 17,
     "metadata": {},
     "output_type": "execute_result"
    }
   ],
   "source": [
    "df = CSV.read(\"data/section3.csv\")"
   ]
  },
  {
   "cell_type": "markdown",
   "metadata": {},
   "source": [
    "### 列ごとにデータを表示"
   ]
  },
  {
   "cell_type": "code",
   "execution_count": 18,
   "metadata": {},
   "outputs": [
    {
     "data": {
      "text/plain": [
       "100-element Array{Union{Missing, Float64},1}:\n",
       "  8.31\n",
       "  9.44\n",
       "  9.5 \n",
       "  9.07\n",
       " 10.16\n",
       "  8.32\n",
       " 10.61\n",
       " 10.06\n",
       "  9.93\n",
       " 10.43\n",
       " 10.36\n",
       " 10.15\n",
       " 10.92\n",
       "  ⋮   \n",
       " 10.73\n",
       "  8.85\n",
       " 11.2 \n",
       "  9.86\n",
       " 11.54\n",
       " 10.03\n",
       " 11.88\n",
       "  9.15\n",
       "  8.52\n",
       " 10.24\n",
       " 10.86\n",
       "  9.97"
      ]
     },
     "execution_count": 18,
     "metadata": {},
     "output_type": "execute_result"
    }
   ],
   "source": [
    "df.x"
   ]
  },
  {
   "cell_type": "code",
   "execution_count": 19,
   "metadata": {},
   "outputs": [
    {
     "data": {
      "text/plain": [
       "100-element Array{Union{Missing, Int64},1}:\n",
       "  6\n",
       "  6\n",
       "  6\n",
       " 12\n",
       " 10\n",
       "  4\n",
       "  9\n",
       "  9\n",
       "  9\n",
       " 11\n",
       "  6\n",
       " 10\n",
       "  6\n",
       "  ⋮\n",
       "  4\n",
       "  5\n",
       "  6\n",
       "  5\n",
       "  8\n",
       "  5\n",
       "  9\n",
       "  8\n",
       "  6\n",
       "  8\n",
       "  7\n",
       "  9"
      ]
     },
     "execution_count": 19,
     "metadata": {},
     "output_type": "execute_result"
    }
   ],
   "source": [
    "df.y"
   ]
  },
  {
   "cell_type": "code",
   "execution_count": 20,
   "metadata": {},
   "outputs": [
    {
     "data": {
      "text/plain": [
       "100-element Array{Union{Missing, String},1}:\n",
       " \"C\"\n",
       " \"C\"\n",
       " \"C\"\n",
       " \"C\"\n",
       " \"C\"\n",
       " \"C\"\n",
       " \"C\"\n",
       " \"C\"\n",
       " \"C\"\n",
       " \"C\"\n",
       " \"C\"\n",
       " \"C\"\n",
       " \"C\"\n",
       " ⋮  \n",
       " \"T\"\n",
       " \"T\"\n",
       " \"T\"\n",
       " \"T\"\n",
       " \"T\"\n",
       " \"T\"\n",
       " \"T\"\n",
       " \"T\"\n",
       " \"T\"\n",
       " \"T\"\n",
       " \"T\"\n",
       " \"T\""
      ]
     },
     "execution_count": 20,
     "metadata": {},
     "output_type": "execute_result"
    }
   ],
   "source": [
    "df.f"
   ]
  },
  {
   "cell_type": "markdown",
   "metadata": {},
   "source": [
    "### データオブジェクトの型を調べる"
   ]
  },
  {
   "cell_type": "code",
   "execution_count": 21,
   "metadata": {},
   "outputs": [
    {
     "data": {
      "text/plain": [
       "DataFrame"
      ]
     },
     "execution_count": 21,
     "metadata": {},
     "output_type": "execute_result"
    }
   ],
   "source": [
    "typeof(df)"
   ]
  },
  {
   "cell_type": "code",
   "execution_count": 23,
   "metadata": {},
   "outputs": [
    {
     "data": {
      "text/plain": [
       "Array{Union{Missing, Float64},1}"
      ]
     },
     "execution_count": 23,
     "metadata": {},
     "output_type": "execute_result"
    }
   ],
   "source": [
    "typeof(df.x)"
   ]
  },
  {
   "cell_type": "code",
   "execution_count": 24,
   "metadata": {},
   "outputs": [
    {
     "data": {
      "text/plain": [
       "Array{Union{Missing, Int64},1}"
      ]
     },
     "execution_count": 24,
     "metadata": {},
     "output_type": "execute_result"
    }
   ],
   "source": [
    "typeof(df.y)"
   ]
  },
  {
   "cell_type": "code",
   "execution_count": 26,
   "metadata": {},
   "outputs": [
    {
     "data": {
      "text/plain": [
       "Array{Union{Missing, String},1}"
      ]
     },
     "execution_count": 26,
     "metadata": {},
     "output_type": "execute_result"
    }
   ],
   "source": [
    "typeof(df.f)"
   ]
  },
  {
   "cell_type": "markdown",
   "metadata": {},
   "source": [
    "### データの要約"
   ]
  },
  {
   "cell_type": "code",
   "execution_count": 28,
   "metadata": {},
   "outputs": [
    {
     "data": {
      "text/html": [
       "<table class=\"data-frame\"><thead><tr><th></th><th>variable</th><th>mean</th><th>min</th><th>median</th><th>max</th><th>nunique</th><th>nmissing</th><th>eltype</th></tr><tr><th></th><th>Symbol</th><th>Union…</th><th>Any</th><th>Union…</th><th>Any</th><th>Union…</th><th>Int64</th><th>DataType</th></tr></thead><tbody><p>3 rows × 8 columns</p><tr><th>1</th><td>y</td><td>7.83</td><td>2</td><td>8.0</td><td>15</td><td></td><td>0</td><td>Int64</td></tr><tr><th>2</th><td>x</td><td>10.0891</td><td>7.19</td><td>10.155</td><td>12.4</td><td></td><td>0</td><td>Float64</td></tr><tr><th>3</th><td>f</td><td></td><td>C</td><td></td><td>T</td><td>2</td><td>0</td><td>String</td></tr></tbody></table>"
      ],
      "text/latex": [
       "\\begin{tabular}{r|cccccccc}\n",
       "\t& variable & mean & min & median & max & nunique & nmissing & eltype\\\\\n",
       "\t\\hline\n",
       "\t& Symbol & Union… & Any & Union… & Any & Union… & Int64 & DataType\\\\\n",
       "\t\\hline\n",
       "\t1 & y & 7.83 & 2 & 8.0 & 15 &  & 0 & Int64 \\\\\n",
       "\t2 & x & 10.0891 & 7.19 & 10.155 & 12.4 &  & 0 & Float64 \\\\\n",
       "\t3 & f &  & C &  & T & 2 & 0 & String \\\\\n",
       "\\end{tabular}\n"
      ],
      "text/plain": [
       "3×8 DataFrame. Omitted printing of 1 columns\n",
       "│ Row │ variable │ mean    │ min  │ median │ max  │ nunique │ nmissing │\n",
       "│     │ \u001b[90mSymbol\u001b[39m   │ \u001b[90mUnion…\u001b[39m  │ \u001b[90mAny\u001b[39m  │ \u001b[90mUnion…\u001b[39m │ \u001b[90mAny\u001b[39m  │ \u001b[90mUnion…\u001b[39m  │ \u001b[90mInt64\u001b[39m    │\n",
       "├─────┼──────────┼─────────┼──────┼────────┼──────┼─────────┼──────────┤\n",
       "│ 1   │ y        │ 7.83    │ 2    │ 8.0    │ 15   │         │ 0        │\n",
       "│ 2   │ x        │ 10.0891 │ 7.19 │ 10.155 │ 12.4 │         │ 0        │\n",
       "│ 3   │ f        │         │ C    │        │ T    │ 2       │ 0        │"
      ]
     },
     "execution_count": 28,
     "metadata": {},
     "output_type": "execute_result"
    }
   ],
   "source": [
    "describe(df)"
   ]
  },
  {
   "cell_type": "markdown",
   "metadata": {},
   "source": [
    "### 3.3 統計モデリングの前にデータを図示する¶\n",
    "\n",
    "#### データの図示\n",
    "\n",
    "散布図"
   ]
  },
  {
   "cell_type": "code",
   "execution_count": 29,
   "metadata": {},
   "outputs": [
    {
     "data": {
      "image/svg+xml": [
       "<?xml version=\"1.0\" encoding=\"utf-8\"?>\n",
       "<svg xmlns=\"http://www.w3.org/2000/svg\" xmlns:xlink=\"http://www.w3.org/1999/xlink\" width=\"600\" height=\"400\" viewBox=\"0 0 2400 1600\">\n",
       "<defs>\n",
       "  <clipPath id=\"clip2500\">\n",
       "    <rect x=\"0\" y=\"0\" width=\"2400\" height=\"1600\"/>\n",
       "  </clipPath>\n",
       "</defs>\n",
       "<polygon clip-path=\"url(#clip2500)\" points=\"\n",
       "0,1600 2400,1600 2400,0 0,0 \n",
       "  \" fill=\"#ffffff\" fill-rule=\"evenodd\" fill-opacity=\"1\"/>\n",
       "<defs>\n",
       "  <clipPath id=\"clip2501\">\n",
       "    <rect x=\"480\" y=\"0\" width=\"1681\" height=\"1600\"/>\n",
       "  </clipPath>\n",
       "</defs>\n",
       "<polygon clip-path=\"url(#clip2500)\" points=\"\n",
       "148.013,1503.47 2321.26,1503.47 2321.26,47.2441 148.013,47.2441 \n",
       "  \" fill=\"#ffffff\" fill-rule=\"evenodd\" fill-opacity=\"1\"/>\n",
       "<defs>\n",
       "  <clipPath id=\"clip2502\">\n",
       "    <rect x=\"148\" y=\"47\" width=\"2174\" height=\"1457\"/>\n",
       "  </clipPath>\n",
       "</defs>\n",
       "<polyline clip-path=\"url(#clip2502)\" style=\"stroke:#000000; stroke-width:2; stroke-opacity:0.1; fill:none\" points=\"\n",
       "  528.27,1503.47 528.27,47.2441 \n",
       "  \"/>\n",
       "<polyline clip-path=\"url(#clip2502)\" style=\"stroke:#000000; stroke-width:2; stroke-opacity:0.1; fill:none\" points=\"\n",
       "  921.789,1503.47 921.789,47.2441 \n",
       "  \"/>\n",
       "<polyline clip-path=\"url(#clip2502)\" style=\"stroke:#000000; stroke-width:2; stroke-opacity:0.1; fill:none\" points=\"\n",
       "  1315.31,1503.47 1315.31,47.2441 \n",
       "  \"/>\n",
       "<polyline clip-path=\"url(#clip2502)\" style=\"stroke:#000000; stroke-width:2; stroke-opacity:0.1; fill:none\" points=\"\n",
       "  1708.83,1503.47 1708.83,47.2441 \n",
       "  \"/>\n",
       "<polyline clip-path=\"url(#clip2502)\" style=\"stroke:#000000; stroke-width:2; stroke-opacity:0.1; fill:none\" points=\"\n",
       "  2102.35,1503.47 2102.35,47.2441 \n",
       "  \"/>\n",
       "<polyline clip-path=\"url(#clip2502)\" style=\"stroke:#000000; stroke-width:2; stroke-opacity:0.1; fill:none\" points=\"\n",
       "  148.013,1462.26 2321.26,1462.26 \n",
       "  \"/>\n",
       "<polyline clip-path=\"url(#clip2502)\" style=\"stroke:#000000; stroke-width:2; stroke-opacity:0.1; fill:none\" points=\"\n",
       "  148.013,1250.91 2321.26,1250.91 \n",
       "  \"/>\n",
       "<polyline clip-path=\"url(#clip2502)\" style=\"stroke:#000000; stroke-width:2; stroke-opacity:0.1; fill:none\" points=\"\n",
       "  148.013,1039.55 2321.26,1039.55 \n",
       "  \"/>\n",
       "<polyline clip-path=\"url(#clip2502)\" style=\"stroke:#000000; stroke-width:2; stroke-opacity:0.1; fill:none\" points=\"\n",
       "  148.013,828.198 2321.26,828.198 \n",
       "  \"/>\n",
       "<polyline clip-path=\"url(#clip2502)\" style=\"stroke:#000000; stroke-width:2; stroke-opacity:0.1; fill:none\" points=\"\n",
       "  148.013,616.844 2321.26,616.844 \n",
       "  \"/>\n",
       "<polyline clip-path=\"url(#clip2502)\" style=\"stroke:#000000; stroke-width:2; stroke-opacity:0.1; fill:none\" points=\"\n",
       "  148.013,405.49 2321.26,405.49 \n",
       "  \"/>\n",
       "<polyline clip-path=\"url(#clip2502)\" style=\"stroke:#000000; stroke-width:2; stroke-opacity:0.1; fill:none\" points=\"\n",
       "  148.013,194.135 2321.26,194.135 \n",
       "  \"/>\n",
       "<polyline clip-path=\"url(#clip2500)\" style=\"stroke:#000000; stroke-width:4; stroke-opacity:1; fill:none\" points=\"\n",
       "  148.013,1503.47 2321.26,1503.47 \n",
       "  \"/>\n",
       "<polyline clip-path=\"url(#clip2500)\" style=\"stroke:#000000; stroke-width:4; stroke-opacity:1; fill:none\" points=\"\n",
       "  148.013,1503.47 148.013,47.2441 \n",
       "  \"/>\n",
       "<polyline clip-path=\"url(#clip2500)\" style=\"stroke:#000000; stroke-width:4; stroke-opacity:1; fill:none\" points=\"\n",
       "  528.27,1503.47 528.27,1481.63 \n",
       "  \"/>\n",
       "<polyline clip-path=\"url(#clip2500)\" style=\"stroke:#000000; stroke-width:4; stroke-opacity:1; fill:none\" points=\"\n",
       "  921.789,1503.47 921.789,1481.63 \n",
       "  \"/>\n",
       "<polyline clip-path=\"url(#clip2500)\" style=\"stroke:#000000; stroke-width:4; stroke-opacity:1; fill:none\" points=\"\n",
       "  1315.31,1503.47 1315.31,1481.63 \n",
       "  \"/>\n",
       "<polyline clip-path=\"url(#clip2500)\" style=\"stroke:#000000; stroke-width:4; stroke-opacity:1; fill:none\" points=\"\n",
       "  1708.83,1503.47 1708.83,1481.63 \n",
       "  \"/>\n",
       "<polyline clip-path=\"url(#clip2500)\" style=\"stroke:#000000; stroke-width:4; stroke-opacity:1; fill:none\" points=\"\n",
       "  2102.35,1503.47 2102.35,1481.63 \n",
       "  \"/>\n",
       "<polyline clip-path=\"url(#clip2500)\" style=\"stroke:#000000; stroke-width:4; stroke-opacity:1; fill:none\" points=\"\n",
       "  148.013,1462.26 180.612,1462.26 \n",
       "  \"/>\n",
       "<polyline clip-path=\"url(#clip2500)\" style=\"stroke:#000000; stroke-width:4; stroke-opacity:1; fill:none\" points=\"\n",
       "  148.013,1250.91 180.612,1250.91 \n",
       "  \"/>\n",
       "<polyline clip-path=\"url(#clip2500)\" style=\"stroke:#000000; stroke-width:4; stroke-opacity:1; fill:none\" points=\"\n",
       "  148.013,1039.55 180.612,1039.55 \n",
       "  \"/>\n",
       "<polyline clip-path=\"url(#clip2500)\" style=\"stroke:#000000; stroke-width:4; stroke-opacity:1; fill:none\" points=\"\n",
       "  148.013,828.198 180.612,828.198 \n",
       "  \"/>\n",
       "<polyline clip-path=\"url(#clip2500)\" style=\"stroke:#000000; stroke-width:4; stroke-opacity:1; fill:none\" points=\"\n",
       "  148.013,616.844 180.612,616.844 \n",
       "  \"/>\n",
       "<polyline clip-path=\"url(#clip2500)\" style=\"stroke:#000000; stroke-width:4; stroke-opacity:1; fill:none\" points=\"\n",
       "  148.013,405.49 180.612,405.49 \n",
       "  \"/>\n",
       "<polyline clip-path=\"url(#clip2500)\" style=\"stroke:#000000; stroke-width:4; stroke-opacity:1; fill:none\" points=\"\n",
       "  148.013,194.135 180.612,194.135 \n",
       "  \"/>\n",
       "<g clip-path=\"url(#clip2500)\">\n",
       "<text style=\"fill:#000000; fill-opacity:1; font-family:Arial,Helvetica Neue,Helvetica,sans-serif; font-size:48px; text-anchor:middle;\" transform=\"rotate(0, 528.27, 1557.47)\" x=\"528.27\" y=\"1557.47\">8</text>\n",
       "</g>\n",
       "<g clip-path=\"url(#clip2500)\">\n",
       "<text style=\"fill:#000000; fill-opacity:1; font-family:Arial,Helvetica Neue,Helvetica,sans-serif; font-size:48px; text-anchor:middle;\" transform=\"rotate(0, 921.789, 1557.47)\" x=\"921.789\" y=\"1557.47\">9</text>\n",
       "</g>\n",
       "<g clip-path=\"url(#clip2500)\">\n",
       "<text style=\"fill:#000000; fill-opacity:1; font-family:Arial,Helvetica Neue,Helvetica,sans-serif; font-size:48px; text-anchor:middle;\" transform=\"rotate(0, 1315.31, 1557.47)\" x=\"1315.31\" y=\"1557.47\">10</text>\n",
       "</g>\n",
       "<g clip-path=\"url(#clip2500)\">\n",
       "<text style=\"fill:#000000; fill-opacity:1; font-family:Arial,Helvetica Neue,Helvetica,sans-serif; font-size:48px; text-anchor:middle;\" transform=\"rotate(0, 1708.83, 1557.47)\" x=\"1708.83\" y=\"1557.47\">11</text>\n",
       "</g>\n",
       "<g clip-path=\"url(#clip2500)\">\n",
       "<text style=\"fill:#000000; fill-opacity:1; font-family:Arial,Helvetica Neue,Helvetica,sans-serif; font-size:48px; text-anchor:middle;\" transform=\"rotate(0, 2102.35, 1557.47)\" x=\"2102.35\" y=\"1557.47\">12</text>\n",
       "</g>\n",
       "<g clip-path=\"url(#clip2500)\">\n",
       "<text style=\"fill:#000000; fill-opacity:1; font-family:Arial,Helvetica Neue,Helvetica,sans-serif; font-size:48px; text-anchor:end;\" transform=\"rotate(0, 124.013, 1479.76)\" x=\"124.013\" y=\"1479.76\">2</text>\n",
       "</g>\n",
       "<g clip-path=\"url(#clip2500)\">\n",
       "<text style=\"fill:#000000; fill-opacity:1; font-family:Arial,Helvetica Neue,Helvetica,sans-serif; font-size:48px; text-anchor:end;\" transform=\"rotate(0, 124.013, 1268.41)\" x=\"124.013\" y=\"1268.41\">4</text>\n",
       "</g>\n",
       "<g clip-path=\"url(#clip2500)\">\n",
       "<text style=\"fill:#000000; fill-opacity:1; font-family:Arial,Helvetica Neue,Helvetica,sans-serif; font-size:48px; text-anchor:end;\" transform=\"rotate(0, 124.013, 1057.05)\" x=\"124.013\" y=\"1057.05\">6</text>\n",
       "</g>\n",
       "<g clip-path=\"url(#clip2500)\">\n",
       "<text style=\"fill:#000000; fill-opacity:1; font-family:Arial,Helvetica Neue,Helvetica,sans-serif; font-size:48px; text-anchor:end;\" transform=\"rotate(0, 124.013, 845.698)\" x=\"124.013\" y=\"845.698\">8</text>\n",
       "</g>\n",
       "<g clip-path=\"url(#clip2500)\">\n",
       "<text style=\"fill:#000000; fill-opacity:1; font-family:Arial,Helvetica Neue,Helvetica,sans-serif; font-size:48px; text-anchor:end;\" transform=\"rotate(0, 124.013, 634.344)\" x=\"124.013\" y=\"634.344\">10</text>\n",
       "</g>\n",
       "<g clip-path=\"url(#clip2500)\">\n",
       "<text style=\"fill:#000000; fill-opacity:1; font-family:Arial,Helvetica Neue,Helvetica,sans-serif; font-size:48px; text-anchor:end;\" transform=\"rotate(0, 124.013, 422.99)\" x=\"124.013\" y=\"422.99\">12</text>\n",
       "</g>\n",
       "<g clip-path=\"url(#clip2500)\">\n",
       "<text style=\"fill:#000000; fill-opacity:1; font-family:Arial,Helvetica Neue,Helvetica,sans-serif; font-size:48px; text-anchor:end;\" transform=\"rotate(0, 124.013, 211.635)\" x=\"124.013\" y=\"211.635\">14</text>\n",
       "</g>\n",
       "<circle clip-path=\"url(#clip2502)\" style=\"fill:#000000; stroke:none; fill-opacity:1\" cx=\"650.261\" cy=\"1039.55\" r=\"18\"/>\n",
       "<circle clip-path=\"url(#clip2502)\" style=\"fill:#009af9; stroke:none; fill-opacity:1\" cx=\"650.261\" cy=\"1039.55\" r=\"14\"/>\n",
       "<circle clip-path=\"url(#clip2502)\" style=\"fill:#000000; stroke:none; fill-opacity:1\" cx=\"1094.94\" cy=\"1039.55\" r=\"18\"/>\n",
       "<circle clip-path=\"url(#clip2502)\" style=\"fill:#009af9; stroke:none; fill-opacity:1\" cx=\"1094.94\" cy=\"1039.55\" r=\"14\"/>\n",
       "<circle clip-path=\"url(#clip2502)\" style=\"fill:#000000; stroke:none; fill-opacity:1\" cx=\"1118.55\" cy=\"1039.55\" r=\"18\"/>\n",
       "<circle clip-path=\"url(#clip2502)\" style=\"fill:#009af9; stroke:none; fill-opacity:1\" cx=\"1118.55\" cy=\"1039.55\" r=\"14\"/>\n",
       "<circle clip-path=\"url(#clip2502)\" style=\"fill:#000000; stroke:none; fill-opacity:1\" cx=\"949.335\" cy=\"405.49\" r=\"18\"/>\n",
       "<circle clip-path=\"url(#clip2502)\" style=\"fill:#009af9; stroke:none; fill-opacity:1\" cx=\"949.335\" cy=\"405.49\" r=\"14\"/>\n",
       "<circle clip-path=\"url(#clip2502)\" style=\"fill:#000000; stroke:none; fill-opacity:1\" cx=\"1378.27\" cy=\"616.844\" r=\"18\"/>\n",
       "<circle clip-path=\"url(#clip2502)\" style=\"fill:#009af9; stroke:none; fill-opacity:1\" cx=\"1378.27\" cy=\"616.844\" r=\"14\"/>\n",
       "<circle clip-path=\"url(#clip2502)\" style=\"fill:#000000; stroke:none; fill-opacity:1\" cx=\"654.196\" cy=\"1250.91\" r=\"18\"/>\n",
       "<circle clip-path=\"url(#clip2502)\" style=\"fill:#009af9; stroke:none; fill-opacity:1\" cx=\"654.196\" cy=\"1250.91\" r=\"14\"/>\n",
       "<circle clip-path=\"url(#clip2502)\" style=\"fill:#000000; stroke:none; fill-opacity:1\" cx=\"1555.35\" cy=\"722.521\" r=\"18\"/>\n",
       "<circle clip-path=\"url(#clip2502)\" style=\"fill:#009af9; stroke:none; fill-opacity:1\" cx=\"1555.35\" cy=\"722.521\" r=\"14\"/>\n",
       "<circle clip-path=\"url(#clip2502)\" style=\"fill:#000000; stroke:none; fill-opacity:1\" cx=\"1338.92\" cy=\"722.521\" r=\"18\"/>\n",
       "<circle clip-path=\"url(#clip2502)\" style=\"fill:#009af9; stroke:none; fill-opacity:1\" cx=\"1338.92\" cy=\"722.521\" r=\"14\"/>\n",
       "<circle clip-path=\"url(#clip2502)\" style=\"fill:#000000; stroke:none; fill-opacity:1\" cx=\"1287.76\" cy=\"722.521\" r=\"18\"/>\n",
       "<circle clip-path=\"url(#clip2502)\" style=\"fill:#009af9; stroke:none; fill-opacity:1\" cx=\"1287.76\" cy=\"722.521\" r=\"14\"/>\n",
       "<circle clip-path=\"url(#clip2502)\" style=\"fill:#000000; stroke:none; fill-opacity:1\" cx=\"1484.52\" cy=\"511.167\" r=\"18\"/>\n",
       "<circle clip-path=\"url(#clip2502)\" style=\"fill:#009af9; stroke:none; fill-opacity:1\" cx=\"1484.52\" cy=\"511.167\" r=\"14\"/>\n",
       "<circle clip-path=\"url(#clip2502)\" style=\"fill:#000000; stroke:none; fill-opacity:1\" cx=\"1456.97\" cy=\"1039.55\" r=\"18\"/>\n",
       "<circle clip-path=\"url(#clip2502)\" style=\"fill:#009af9; stroke:none; fill-opacity:1\" cx=\"1456.97\" cy=\"1039.55\" r=\"14\"/>\n",
       "<circle clip-path=\"url(#clip2502)\" style=\"fill:#000000; stroke:none; fill-opacity:1\" cx=\"1374.34\" cy=\"616.844\" r=\"18\"/>\n",
       "<circle clip-path=\"url(#clip2502)\" style=\"fill:#009af9; stroke:none; fill-opacity:1\" cx=\"1374.34\" cy=\"616.844\" r=\"14\"/>\n",
       "<circle clip-path=\"url(#clip2502)\" style=\"fill:#000000; stroke:none; fill-opacity:1\" cx=\"1677.35\" cy=\"1039.55\" r=\"18\"/>\n",
       "<circle clip-path=\"url(#clip2502)\" style=\"fill:#009af9; stroke:none; fill-opacity:1\" cx=\"1677.35\" cy=\"1039.55\" r=\"14\"/>\n",
       "<circle clip-path=\"url(#clip2502)\" style=\"fill:#000000; stroke:none; fill-opacity:1\" cx=\"862.761\" cy=\"616.844\" r=\"18\"/>\n",
       "<circle clip-path=\"url(#clip2502)\" style=\"fill:#009af9; stroke:none; fill-opacity:1\" cx=\"862.761\" cy=\"616.844\" r=\"14\"/>\n",
       "<circle clip-path=\"url(#clip2502)\" style=\"fill:#000000; stroke:none; fill-opacity:1\" cx=\"1087.07\" cy=\"511.167\" r=\"18\"/>\n",
       "<circle clip-path=\"url(#clip2502)\" style=\"fill:#009af9; stroke:none; fill-opacity:1\" cx=\"1087.07\" cy=\"511.167\" r=\"14\"/>\n",
       "<circle clip-path=\"url(#clip2502)\" style=\"fill:#000000; stroke:none; fill-opacity:1\" cx=\"1752.11\" cy=\"828.198\" r=\"18\"/>\n",
       "<circle clip-path=\"url(#clip2502)\" style=\"fill:#009af9; stroke:none; fill-opacity:1\" cx=\"1752.11\" cy=\"828.198\" r=\"14\"/>\n",
       "<circle clip-path=\"url(#clip2502)\" style=\"fill:#000000; stroke:none; fill-opacity:1\" cx=\"536.14\" cy=\"1356.58\" r=\"18\"/>\n",
       "<circle clip-path=\"url(#clip2502)\" style=\"fill:#009af9; stroke:none; fill-opacity:1\" cx=\"536.14\" cy=\"1356.58\" r=\"14\"/>\n",
       "<circle clip-path=\"url(#clip2502)\" style=\"fill:#000000; stroke:none; fill-opacity:1\" cx=\"2074.8\" cy=\"828.198\" r=\"18\"/>\n",
       "<circle clip-path=\"url(#clip2502)\" style=\"fill:#009af9; stroke:none; fill-opacity:1\" cx=\"2074.8\" cy=\"828.198\" r=\"14\"/>\n",
       "<circle clip-path=\"url(#clip2502)\" style=\"fill:#000000; stroke:none; fill-opacity:1\" cx=\"744.705\" cy=\"1145.23\" r=\"18\"/>\n",
       "<circle clip-path=\"url(#clip2502)\" style=\"fill:#009af9; stroke:none; fill-opacity:1\" cx=\"744.705\" cy=\"1145.23\" r=\"14\"/>\n",
       "<circle clip-path=\"url(#clip2502)\" style=\"fill:#000000; stroke:none; fill-opacity:1\" cx=\"209.52\" cy=\"1145.23\" r=\"18\"/>\n",
       "<circle clip-path=\"url(#clip2502)\" style=\"fill:#009af9; stroke:none; fill-opacity:1\" cx=\"209.52\" cy=\"1145.23\" r=\"14\"/>\n",
       "<circle clip-path=\"url(#clip2502)\" style=\"fill:#000000; stroke:none; fill-opacity:1\" cx=\"1248.41\" cy=\"1250.91\" r=\"18\"/>\n",
       "<circle clip-path=\"url(#clip2502)\" style=\"fill:#009af9; stroke:none; fill-opacity:1\" cx=\"1248.41\" cy=\"1250.91\" r=\"14\"/>\n",
       "<circle clip-path=\"url(#clip2502)\" style=\"fill:#000000; stroke:none; fill-opacity:1\" cx=\"1626.19\" cy=\"511.167\" r=\"18\"/>\n",
       "<circle clip-path=\"url(#clip2502)\" style=\"fill:#009af9; stroke:none; fill-opacity:1\" cx=\"1626.19\" cy=\"511.167\" r=\"14\"/>\n",
       "<circle clip-path=\"url(#clip2502)\" style=\"fill:#000000; stroke:none; fill-opacity:1\" cx=\"878.502\" cy=\"1145.23\" r=\"18\"/>\n",
       "<circle clip-path=\"url(#clip2502)\" style=\"fill:#009af9; stroke:none; fill-opacity:1\" cx=\"878.502\" cy=\"1145.23\" r=\"14\"/>\n",
       "<circle clip-path=\"url(#clip2502)\" style=\"fill:#000000; stroke:none; fill-opacity:1\" cx=\"1350.72\" cy=\"616.844\" r=\"18\"/>\n",
       "<circle clip-path=\"url(#clip2502)\" style=\"fill:#009af9; stroke:none; fill-opacity:1\" cx=\"1350.72\" cy=\"616.844\" r=\"14\"/>\n",
       "<circle clip-path=\"url(#clip2502)\" style=\"fill:#000000; stroke:none; fill-opacity:1\" cx=\"1956.74\" cy=\"1039.55\" r=\"18\"/>\n",
       "<circle clip-path=\"url(#clip2502)\" style=\"fill:#009af9; stroke:none; fill-opacity:1\" cx=\"1956.74\" cy=\"1039.55\" r=\"14\"/>\n",
       "<circle clip-path=\"url(#clip2502)\" style=\"fill:#000000; stroke:none; fill-opacity:1\" cx=\"1397.95\" cy=\"1039.55\" r=\"18\"/>\n",
       "<circle clip-path=\"url(#clip2502)\" style=\"fill:#009af9; stroke:none; fill-opacity:1\" cx=\"1397.95\" cy=\"1039.55\" r=\"14\"/>\n",
       "<circle clip-path=\"url(#clip2502)\" style=\"fill:#000000; stroke:none; fill-opacity:1\" cx=\"1098.87\" cy=\"933.875\" r=\"18\"/>\n",
       "<circle clip-path=\"url(#clip2502)\" style=\"fill:#009af9; stroke:none; fill-opacity:1\" cx=\"1098.87\" cy=\"933.875\" r=\"14\"/>\n",
       "<circle clip-path=\"url(#clip2502)\" style=\"fill:#000000; stroke:none; fill-opacity:1\" cx=\"1488.46\" cy=\"722.521\" r=\"18\"/>\n",
       "<circle clip-path=\"url(#clip2502)\" style=\"fill:#009af9; stroke:none; fill-opacity:1\" cx=\"1488.46\" cy=\"722.521\" r=\"14\"/>\n",
       "<circle clip-path=\"url(#clip2502)\" style=\"fill:#000000; stroke:none; fill-opacity:1\" cx=\"1094.94\" cy=\"1356.58\" r=\"18\"/>\n",
       "<circle clip-path=\"url(#clip2502)\" style=\"fill:#009af9; stroke:none; fill-opacity:1\" cx=\"1094.94\" cy=\"1356.58\" r=\"14\"/>\n",
       "<circle clip-path=\"url(#clip2502)\" style=\"fill:#000000; stroke:none; fill-opacity:1\" cx=\"1504.2\" cy=\"616.844\" r=\"18\"/>\n",
       "<circle clip-path=\"url(#clip2502)\" style=\"fill:#009af9; stroke:none; fill-opacity:1\" cx=\"1504.2\" cy=\"616.844\" r=\"14\"/>\n",
       "<circle clip-path=\"url(#clip2502)\" style=\"fill:#000000; stroke:none; fill-opacity:1\" cx=\"1091\" cy=\"1462.26\" r=\"18\"/>\n",
       "<circle clip-path=\"url(#clip2502)\" style=\"fill:#009af9; stroke:none; fill-opacity:1\" cx=\"1091\" cy=\"1462.26\" r=\"14\"/>\n",
       "<circle clip-path=\"url(#clip2502)\" style=\"fill:#000000; stroke:none; fill-opacity:1\" cx=\"1441.23\" cy=\"722.521\" r=\"18\"/>\n",
       "<circle clip-path=\"url(#clip2502)\" style=\"fill:#009af9; stroke:none; fill-opacity:1\" cx=\"1441.23\" cy=\"722.521\" r=\"14\"/>\n",
       "<circle clip-path=\"url(#clip2502)\" style=\"fill:#000000; stroke:none; fill-opacity:1\" cx=\"1445.17\" cy=\"616.844\" r=\"18\"/>\n",
       "<circle clip-path=\"url(#clip2502)\" style=\"fill:#009af9; stroke:none; fill-opacity:1\" cx=\"1445.17\" cy=\"616.844\" r=\"14\"/>\n",
       "<circle clip-path=\"url(#clip2502)\" style=\"fill:#000000; stroke:none; fill-opacity:1\" cx=\"725.029\" cy=\"1145.23\" r=\"18\"/>\n",
       "<circle clip-path=\"url(#clip2502)\" style=\"fill:#009af9; stroke:none; fill-opacity:1\" cx=\"725.029\" cy=\"1145.23\" r=\"14\"/>\n",
       "<circle clip-path=\"url(#clip2502)\" style=\"fill:#000000; stroke:none; fill-opacity:1\" cx=\"1083.13\" cy=\"511.167\" r=\"18\"/>\n",
       "<circle clip-path=\"url(#clip2502)\" style=\"fill:#009af9; stroke:none; fill-opacity:1\" cx=\"1083.13\" cy=\"511.167\" r=\"14\"/>\n",
       "<circle clip-path=\"url(#clip2502)\" style=\"fill:#000000; stroke:none; fill-opacity:1\" cx=\"906.048\" cy=\"616.844\" r=\"18\"/>\n",
       "<circle clip-path=\"url(#clip2502)\" style=\"fill:#009af9; stroke:none; fill-opacity:1\" cx=\"906.048\" cy=\"616.844\" r=\"14\"/>\n",
       "<circle clip-path=\"url(#clip2502)\" style=\"fill:#000000; stroke:none; fill-opacity:1\" cx=\"1185.45\" cy=\"1250.91\" r=\"18\"/>\n",
       "<circle clip-path=\"url(#clip2502)\" style=\"fill:#009af9; stroke:none; fill-opacity:1\" cx=\"1185.45\" cy=\"1250.91\" r=\"14\"/>\n",
       "<circle clip-path=\"url(#clip2502)\" style=\"fill:#000000; stroke:none; fill-opacity:1\" cx=\"1417.62\" cy=\"828.198\" r=\"18\"/>\n",
       "<circle clip-path=\"url(#clip2502)\" style=\"fill:#009af9; stroke:none; fill-opacity:1\" cx=\"1417.62\" cy=\"828.198\" r=\"14\"/>\n",
       "<circle clip-path=\"url(#clip2502)\" style=\"fill:#000000; stroke:none; fill-opacity:1\" cx=\"1456.97\" cy=\"722.521\" r=\"18\"/>\n",
       "<circle clip-path=\"url(#clip2502)\" style=\"fill:#009af9; stroke:none; fill-opacity:1\" cx=\"1456.97\" cy=\"722.521\" r=\"14\"/>\n",
       "<circle clip-path=\"url(#clip2502)\" style=\"fill:#000000; stroke:none; fill-opacity:1\" cx=\"2023.64\" cy=\"405.49\" r=\"18\"/>\n",
       "<circle clip-path=\"url(#clip2502)\" style=\"fill:#009af9; stroke:none; fill-opacity:1\" cx=\"2023.64\" cy=\"405.49\" r=\"14\"/>\n",
       "<circle clip-path=\"url(#clip2502)\" style=\"fill:#000000; stroke:none; fill-opacity:1\" cx=\"1685.22\" cy=\"828.198\" r=\"18\"/>\n",
       "<circle clip-path=\"url(#clip2502)\" style=\"fill:#009af9; stroke:none; fill-opacity:1\" cx=\"1685.22\" cy=\"828.198\" r=\"14\"/>\n",
       "<circle clip-path=\"url(#clip2502)\" style=\"fill:#000000; stroke:none; fill-opacity:1\" cx=\"1413.69\" cy=\"722.521\" r=\"18\"/>\n",
       "<circle clip-path=\"url(#clip2502)\" style=\"fill:#009af9; stroke:none; fill-opacity:1\" cx=\"1413.69\" cy=\"722.521\" r=\"14\"/>\n",
       "<circle clip-path=\"url(#clip2502)\" style=\"fill:#000000; stroke:none; fill-opacity:1\" cx=\"819.474\" cy=\"828.198\" r=\"18\"/>\n",
       "<circle clip-path=\"url(#clip2502)\" style=\"fill:#009af9; stroke:none; fill-opacity:1\" cx=\"819.474\" cy=\"828.198\" r=\"14\"/>\n",
       "<circle clip-path=\"url(#clip2502)\" style=\"fill:#000000; stroke:none; fill-opacity:1\" cx=\"1496.33\" cy=\"1039.55\" r=\"18\"/>\n",
       "<circle clip-path=\"url(#clip2502)\" style=\"fill:#009af9; stroke:none; fill-opacity:1\" cx=\"1496.33\" cy=\"1039.55\" r=\"14\"/>\n",
       "<circle clip-path=\"url(#clip2502)\" style=\"fill:#000000; stroke:none; fill-opacity:1\" cx=\"1067.39\" cy=\"1039.55\" r=\"18\"/>\n",
       "<circle clip-path=\"url(#clip2502)\" style=\"fill:#009af9; stroke:none; fill-opacity:1\" cx=\"1067.39\" cy=\"1039.55\" r=\"14\"/>\n",
       "<circle clip-path=\"url(#clip2502)\" style=\"fill:#000000; stroke:none; fill-opacity:1\" cx=\"1212.99\" cy=\"616.844\" r=\"18\"/>\n",
       "<circle clip-path=\"url(#clip2502)\" style=\"fill:#009af9; stroke:none; fill-opacity:1\" cx=\"1212.99\" cy=\"616.844\" r=\"14\"/>\n",
       "<circle clip-path=\"url(#clip2502)\" style=\"fill:#000000; stroke:none; fill-opacity:1\" cx=\"902.113\" cy=\"616.844\" r=\"18\"/>\n",
       "<circle clip-path=\"url(#clip2502)\" style=\"fill:#009af9; stroke:none; fill-opacity:1\" cx=\"902.113\" cy=\"616.844\" r=\"14\"/>\n",
       "<circle clip-path=\"url(#clip2502)\" style=\"fill:#000000; stroke:none; fill-opacity:1\" cx=\"819.474\" cy=\"722.521\" r=\"18\"/>\n",
       "<circle clip-path=\"url(#clip2502)\" style=\"fill:#009af9; stroke:none; fill-opacity:1\" cx=\"819.474\" cy=\"722.521\" r=\"14\"/>\n",
       "<circle clip-path=\"url(#clip2502)\" style=\"fill:#000000; stroke:none; fill-opacity:1\" cx=\"1834.75\" cy=\"405.49\" r=\"18\"/>\n",
       "<circle clip-path=\"url(#clip2502)\" style=\"fill:#009af9; stroke:none; fill-opacity:1\" cx=\"1834.75\" cy=\"405.49\" r=\"14\"/>\n",
       "<circle clip-path=\"url(#clip2502)\" style=\"fill:#000000; stroke:none; fill-opacity:1\" cx=\"1020.17\" cy=\"1039.55\" r=\"18\"/>\n",
       "<circle clip-path=\"url(#clip2502)\" style=\"fill:#009af9; stroke:none; fill-opacity:1\" cx=\"1020.17\" cy=\"1039.55\" r=\"14\"/>\n",
       "<circle clip-path=\"url(#clip2502)\" style=\"fill:#000000; stroke:none; fill-opacity:1\" cx=\"1370.4\" cy=\"194.135\" r=\"18\"/>\n",
       "<circle clip-path=\"url(#clip2502)\" style=\"fill:#e26f46; stroke:none; fill-opacity:1\" cx=\"1370.4\" cy=\"194.135\" r=\"14\"/>\n",
       "<circle clip-path=\"url(#clip2502)\" style=\"fill:#000000; stroke:none; fill-opacity:1\" cx=\"941.465\" cy=\"1039.55\" r=\"18\"/>\n",
       "<circle clip-path=\"url(#clip2502)\" style=\"fill:#e26f46; stroke:none; fill-opacity:1\" cx=\"941.465\" cy=\"1039.55\" r=\"14\"/>\n",
       "<circle clip-path=\"url(#clip2502)\" style=\"fill:#000000; stroke:none; fill-opacity:1\" cx=\"1272.02\" cy=\"933.875\" r=\"18\"/>\n",
       "<circle clip-path=\"url(#clip2502)\" style=\"fill:#e26f46; stroke:none; fill-opacity:1\" cx=\"1272.02\" cy=\"933.875\" r=\"14\"/>\n",
       "<circle clip-path=\"url(#clip2502)\" style=\"fill:#000000; stroke:none; fill-opacity:1\" cx=\"827.344\" cy=\"722.521\" r=\"18\"/>\n",
       "<circle clip-path=\"url(#clip2502)\" style=\"fill:#e26f46; stroke:none; fill-opacity:1\" cx=\"827.344\" cy=\"722.521\" r=\"14\"/>\n",
       "<circle clip-path=\"url(#clip2502)\" style=\"fill:#000000; stroke:none; fill-opacity:1\" cx=\"2118.09\" cy=\"1039.55\" r=\"18\"/>\n",
       "<circle clip-path=\"url(#clip2502)\" style=\"fill:#e26f46; stroke:none; fill-opacity:1\" cx=\"2118.09\" cy=\"1039.55\" r=\"14\"/>\n",
       "<circle clip-path=\"url(#clip2502)\" style=\"fill:#000000; stroke:none; fill-opacity:1\" cx=\"1279.89\" cy=\"933.875\" r=\"18\"/>\n",
       "<circle clip-path=\"url(#clip2502)\" style=\"fill:#e26f46; stroke:none; fill-opacity:1\" cx=\"1279.89\" cy=\"933.875\" r=\"14\"/>\n",
       "<circle clip-path=\"url(#clip2502)\" style=\"fill:#000000; stroke:none; fill-opacity:1\" cx=\"1252.34\" cy=\"722.521\" r=\"18\"/>\n",
       "<circle clip-path=\"url(#clip2502)\" style=\"fill:#e26f46; stroke:none; fill-opacity:1\" cx=\"1252.34\" cy=\"722.521\" r=\"14\"/>\n",
       "<circle clip-path=\"url(#clip2502)\" style=\"fill:#000000; stroke:none; fill-opacity:1\" cx=\"2051.19\" cy=\"299.812\" r=\"18\"/>\n",
       "<circle clip-path=\"url(#clip2502)\" style=\"fill:#e26f46; stroke:none; fill-opacity:1\" cx=\"2051.19\" cy=\"299.812\" r=\"14\"/>\n",
       "<circle clip-path=\"url(#clip2502)\" style=\"fill:#000000; stroke:none; fill-opacity:1\" cx=\"1378.27\" cy=\"722.521\" r=\"18\"/>\n",
       "<circle clip-path=\"url(#clip2502)\" style=\"fill:#e26f46; stroke:none; fill-opacity:1\" cx=\"1378.27\" cy=\"722.521\" r=\"14\"/>\n",
       "<circle clip-path=\"url(#clip2502)\" style=\"fill:#000000; stroke:none; fill-opacity:1\" cx=\"1055.59\" cy=\"299.812\" r=\"18\"/>\n",
       "<circle clip-path=\"url(#clip2502)\" style=\"fill:#e26f46; stroke:none; fill-opacity:1\" cx=\"1055.59\" cy=\"299.812\" r=\"14\"/>\n",
       "<circle clip-path=\"url(#clip2502)\" style=\"fill:#000000; stroke:none; fill-opacity:1\" cx=\"1382.21\" cy=\"933.875\" r=\"18\"/>\n",
       "<circle clip-path=\"url(#clip2502)\" style=\"fill:#e26f46; stroke:none; fill-opacity:1\" cx=\"1382.21\" cy=\"933.875\" r=\"14\"/>\n",
       "<circle clip-path=\"url(#clip2502)\" style=\"fill:#000000; stroke:none; fill-opacity:1\" cx=\"1704.89\" cy=\"828.198\" r=\"18\"/>\n",
       "<circle clip-path=\"url(#clip2502)\" style=\"fill:#e26f46; stroke:none; fill-opacity:1\" cx=\"1704.89\" cy=\"828.198\" r=\"14\"/>\n",
       "<circle clip-path=\"url(#clip2502)\" style=\"fill:#000000; stroke:none; fill-opacity:1\" cx=\"996.557\" cy=\"616.844\" r=\"18\"/>\n",
       "<circle clip-path=\"url(#clip2502)\" style=\"fill:#e26f46; stroke:none; fill-opacity:1\" cx=\"996.557\" cy=\"616.844\" r=\"14\"/>\n",
       "<circle clip-path=\"url(#clip2502)\" style=\"fill:#000000; stroke:none; fill-opacity:1\" cx=\"1578.97\" cy=\"933.875\" r=\"18\"/>\n",
       "<circle clip-path=\"url(#clip2502)\" style=\"fill:#e26f46; stroke:none; fill-opacity:1\" cx=\"1578.97\" cy=\"933.875\" r=\"14\"/>\n",
       "<circle clip-path=\"url(#clip2502)\" style=\"fill:#000000; stroke:none; fill-opacity:1\" cx=\"1693.09\" cy=\"405.49\" r=\"18\"/>\n",
       "<circle clip-path=\"url(#clip2502)\" style=\"fill:#e26f46; stroke:none; fill-opacity:1\" cx=\"1693.09\" cy=\"405.49\" r=\"14\"/>\n",
       "<circle clip-path=\"url(#clip2502)\" style=\"fill:#000000; stroke:none; fill-opacity:1\" cx=\"1531.74\" cy=\"1039.55\" r=\"18\"/>\n",
       "<circle clip-path=\"url(#clip2502)\" style=\"fill:#e26f46; stroke:none; fill-opacity:1\" cx=\"1531.74\" cy=\"1039.55\" r=\"14\"/>\n",
       "<circle clip-path=\"url(#clip2502)\" style=\"fill:#000000; stroke:none; fill-opacity:1\" cx=\"1193.32\" cy=\"88.4582\" r=\"18\"/>\n",
       "<circle clip-path=\"url(#clip2502)\" style=\"fill:#e26f46; stroke:none; fill-opacity:1\" cx=\"1193.32\" cy=\"88.4582\" r=\"14\"/>\n",
       "<circle clip-path=\"url(#clip2502)\" style=\"fill:#000000; stroke:none; fill-opacity:1\" cx=\"1673.41\" cy=\"1356.58\" r=\"18\"/>\n",
       "<circle clip-path=\"url(#clip2502)\" style=\"fill:#e26f46; stroke:none; fill-opacity:1\" cx=\"1673.41\" cy=\"1356.58\" r=\"14\"/>\n",
       "<circle clip-path=\"url(#clip2502)\" style=\"fill:#000000; stroke:none; fill-opacity:1\" cx=\"1157.9\" cy=\"1250.91\" r=\"18\"/>\n",
       "<circle clip-path=\"url(#clip2502)\" style=\"fill:#e26f46; stroke:none; fill-opacity:1\" cx=\"1157.9\" cy=\"1250.91\" r=\"14\"/>\n",
       "<circle clip-path=\"url(#clip2502)\" style=\"fill:#000000; stroke:none; fill-opacity:1\" cx=\"2247.95\" cy=\"1039.55\" r=\"18\"/>\n",
       "<circle clip-path=\"url(#clip2502)\" style=\"fill:#e26f46; stroke:none; fill-opacity:1\" cx=\"2247.95\" cy=\"1039.55\" r=\"14\"/>\n",
       "<circle clip-path=\"url(#clip2502)\" style=\"fill:#000000; stroke:none; fill-opacity:1\" cx=\"1527.81\" cy=\"616.844\" r=\"18\"/>\n",
       "<circle clip-path=\"url(#clip2502)\" style=\"fill:#e26f46; stroke:none; fill-opacity:1\" cx=\"1527.81\" cy=\"616.844\" r=\"14\"/>\n",
       "<circle clip-path=\"url(#clip2502)\" style=\"fill:#000000; stroke:none; fill-opacity:1\" cx=\"1826.88\" cy=\"828.198\" r=\"18\"/>\n",
       "<circle clip-path=\"url(#clip2502)\" style=\"fill:#e26f46; stroke:none; fill-opacity:1\" cx=\"1826.88\" cy=\"828.198\" r=\"14\"/>\n",
       "<circle clip-path=\"url(#clip2502)\" style=\"fill:#000000; stroke:none; fill-opacity:1\" cx=\"2259.75\" cy=\"828.198\" r=\"18\"/>\n",
       "<circle clip-path=\"url(#clip2502)\" style=\"fill:#e26f46; stroke:none; fill-opacity:1\" cx=\"2259.75\" cy=\"828.198\" r=\"14\"/>\n",
       "<circle clip-path=\"url(#clip2502)\" style=\"fill:#000000; stroke:none; fill-opacity:1\" cx=\"1386.14\" cy=\"933.875\" r=\"18\"/>\n",
       "<circle clip-path=\"url(#clip2502)\" style=\"fill:#e26f46; stroke:none; fill-opacity:1\" cx=\"1386.14\" cy=\"933.875\" r=\"14\"/>\n",
       "<circle clip-path=\"url(#clip2502)\" style=\"fill:#000000; stroke:none; fill-opacity:1\" cx=\"1130.35\" cy=\"1145.23\" r=\"18\"/>\n",
       "<circle clip-path=\"url(#clip2502)\" style=\"fill:#e26f46; stroke:none; fill-opacity:1\" cx=\"1130.35\" cy=\"1145.23\" r=\"14\"/>\n",
       "<circle clip-path=\"url(#clip2502)\" style=\"fill:#000000; stroke:none; fill-opacity:1\" cx=\"1409.75\" cy=\"1039.55\" r=\"18\"/>\n",
       "<circle clip-path=\"url(#clip2502)\" style=\"fill:#e26f46; stroke:none; fill-opacity:1\" cx=\"1409.75\" cy=\"1039.55\" r=\"14\"/>\n",
       "<circle clip-path=\"url(#clip2502)\" style=\"fill:#000000; stroke:none; fill-opacity:1\" cx=\"2007.9\" cy=\"828.198\" r=\"18\"/>\n",
       "<circle clip-path=\"url(#clip2502)\" style=\"fill:#e26f46; stroke:none; fill-opacity:1\" cx=\"2007.9\" cy=\"828.198\" r=\"14\"/>\n",
       "<circle clip-path=\"url(#clip2502)\" style=\"fill:#000000; stroke:none; fill-opacity:1\" cx=\"1126.42\" cy=\"722.521\" r=\"18\"/>\n",
       "<circle clip-path=\"url(#clip2502)\" style=\"fill:#e26f46; stroke:none; fill-opacity:1\" cx=\"1126.42\" cy=\"722.521\" r=\"14\"/>\n",
       "<circle clip-path=\"url(#clip2502)\" style=\"fill:#000000; stroke:none; fill-opacity:1\" cx=\"1472.72\" cy=\"722.521\" r=\"18\"/>\n",
       "<circle clip-path=\"url(#clip2502)\" style=\"fill:#e26f46; stroke:none; fill-opacity:1\" cx=\"1472.72\" cy=\"722.521\" r=\"14\"/>\n",
       "<circle clip-path=\"url(#clip2502)\" style=\"fill:#000000; stroke:none; fill-opacity:1\" cx=\"1299.57\" cy=\"1039.55\" r=\"18\"/>\n",
       "<circle clip-path=\"url(#clip2502)\" style=\"fill:#e26f46; stroke:none; fill-opacity:1\" cx=\"1299.57\" cy=\"1039.55\" r=\"14\"/>\n",
       "<circle clip-path=\"url(#clip2502)\" style=\"fill:#000000; stroke:none; fill-opacity:1\" cx=\"1433.36\" cy=\"933.875\" r=\"18\"/>\n",
       "<circle clip-path=\"url(#clip2502)\" style=\"fill:#e26f46; stroke:none; fill-opacity:1\" cx=\"1433.36\" cy=\"933.875\" r=\"14\"/>\n",
       "<circle clip-path=\"url(#clip2502)\" style=\"fill:#000000; stroke:none; fill-opacity:1\" cx=\"1921.33\" cy=\"616.844\" r=\"18\"/>\n",
       "<circle clip-path=\"url(#clip2502)\" style=\"fill:#e26f46; stroke:none; fill-opacity:1\" cx=\"1921.33\" cy=\"616.844\" r=\"14\"/>\n",
       "<circle clip-path=\"url(#clip2502)\" style=\"fill:#000000; stroke:none; fill-opacity:1\" cx=\"1087.07\" cy=\"1039.55\" r=\"18\"/>\n",
       "<circle clip-path=\"url(#clip2502)\" style=\"fill:#e26f46; stroke:none; fill-opacity:1\" cx=\"1087.07\" cy=\"1039.55\" r=\"14\"/>\n",
       "<circle clip-path=\"url(#clip2502)\" style=\"fill:#000000; stroke:none; fill-opacity:1\" cx=\"1819.01\" cy=\"511.167\" r=\"18\"/>\n",
       "<circle clip-path=\"url(#clip2502)\" style=\"fill:#e26f46; stroke:none; fill-opacity:1\" cx=\"1819.01\" cy=\"511.167\" r=\"14\"/>\n",
       "<circle clip-path=\"url(#clip2502)\" style=\"fill:#000000; stroke:none; fill-opacity:1\" cx=\"1209.06\" cy=\"511.167\" r=\"18\"/>\n",
       "<circle clip-path=\"url(#clip2502)\" style=\"fill:#e26f46; stroke:none; fill-opacity:1\" cx=\"1209.06\" cy=\"511.167\" r=\"14\"/>\n",
       "<circle clip-path=\"url(#clip2502)\" style=\"fill:#000000; stroke:none; fill-opacity:1\" cx=\"1622.25\" cy=\"511.167\" r=\"18\"/>\n",
       "<circle clip-path=\"url(#clip2502)\" style=\"fill:#e26f46; stroke:none; fill-opacity:1\" cx=\"1622.25\" cy=\"511.167\" r=\"14\"/>\n",
       "<circle clip-path=\"url(#clip2502)\" style=\"fill:#000000; stroke:none; fill-opacity:1\" cx=\"1397.95\" cy=\"1145.23\" r=\"18\"/>\n",
       "<circle clip-path=\"url(#clip2502)\" style=\"fill:#e26f46; stroke:none; fill-opacity:1\" cx=\"1397.95\" cy=\"1145.23\" r=\"14\"/>\n",
       "<circle clip-path=\"url(#clip2502)\" style=\"fill:#000000; stroke:none; fill-opacity:1\" cx=\"1516\" cy=\"1039.55\" r=\"18\"/>\n",
       "<circle clip-path=\"url(#clip2502)\" style=\"fill:#e26f46; stroke:none; fill-opacity:1\" cx=\"1516\" cy=\"1039.55\" r=\"14\"/>\n",
       "<circle clip-path=\"url(#clip2502)\" style=\"fill:#000000; stroke:none; fill-opacity:1\" cx=\"1602.58\" cy=\"1250.91\" r=\"18\"/>\n",
       "<circle clip-path=\"url(#clip2502)\" style=\"fill:#e26f46; stroke:none; fill-opacity:1\" cx=\"1602.58\" cy=\"1250.91\" r=\"14\"/>\n",
       "<circle clip-path=\"url(#clip2502)\" style=\"fill:#000000; stroke:none; fill-opacity:1\" cx=\"862.761\" cy=\"1145.23\" r=\"18\"/>\n",
       "<circle clip-path=\"url(#clip2502)\" style=\"fill:#e26f46; stroke:none; fill-opacity:1\" cx=\"862.761\" cy=\"1145.23\" r=\"14\"/>\n",
       "<circle clip-path=\"url(#clip2502)\" style=\"fill:#000000; stroke:none; fill-opacity:1\" cx=\"1787.53\" cy=\"1039.55\" r=\"18\"/>\n",
       "<circle clip-path=\"url(#clip2502)\" style=\"fill:#e26f46; stroke:none; fill-opacity:1\" cx=\"1787.53\" cy=\"1039.55\" r=\"14\"/>\n",
       "<circle clip-path=\"url(#clip2502)\" style=\"fill:#000000; stroke:none; fill-opacity:1\" cx=\"1260.22\" cy=\"1145.23\" r=\"18\"/>\n",
       "<circle clip-path=\"url(#clip2502)\" style=\"fill:#e26f46; stroke:none; fill-opacity:1\" cx=\"1260.22\" cy=\"1145.23\" r=\"14\"/>\n",
       "<circle clip-path=\"url(#clip2502)\" style=\"fill:#000000; stroke:none; fill-opacity:1\" cx=\"1921.33\" cy=\"828.198\" r=\"18\"/>\n",
       "<circle clip-path=\"url(#clip2502)\" style=\"fill:#e26f46; stroke:none; fill-opacity:1\" cx=\"1921.33\" cy=\"828.198\" r=\"14\"/>\n",
       "<circle clip-path=\"url(#clip2502)\" style=\"fill:#000000; stroke:none; fill-opacity:1\" cx=\"1327.11\" cy=\"1145.23\" r=\"18\"/>\n",
       "<circle clip-path=\"url(#clip2502)\" style=\"fill:#e26f46; stroke:none; fill-opacity:1\" cx=\"1327.11\" cy=\"1145.23\" r=\"14\"/>\n",
       "<circle clip-path=\"url(#clip2502)\" style=\"fill:#000000; stroke:none; fill-opacity:1\" cx=\"2055.12\" cy=\"722.521\" r=\"18\"/>\n",
       "<circle clip-path=\"url(#clip2502)\" style=\"fill:#e26f46; stroke:none; fill-opacity:1\" cx=\"2055.12\" cy=\"722.521\" r=\"14\"/>\n",
       "<circle clip-path=\"url(#clip2502)\" style=\"fill:#000000; stroke:none; fill-opacity:1\" cx=\"980.817\" cy=\"828.198\" r=\"18\"/>\n",
       "<circle clip-path=\"url(#clip2502)\" style=\"fill:#e26f46; stroke:none; fill-opacity:1\" cx=\"980.817\" cy=\"828.198\" r=\"14\"/>\n",
       "<circle clip-path=\"url(#clip2502)\" style=\"fill:#000000; stroke:none; fill-opacity:1\" cx=\"732.9\" cy=\"1039.55\" r=\"18\"/>\n",
       "<circle clip-path=\"url(#clip2502)\" style=\"fill:#e26f46; stroke:none; fill-opacity:1\" cx=\"732.9\" cy=\"1039.55\" r=\"14\"/>\n",
       "<circle clip-path=\"url(#clip2502)\" style=\"fill:#000000; stroke:none; fill-opacity:1\" cx=\"1409.75\" cy=\"828.198\" r=\"18\"/>\n",
       "<circle clip-path=\"url(#clip2502)\" style=\"fill:#e26f46; stroke:none; fill-opacity:1\" cx=\"1409.75\" cy=\"828.198\" r=\"14\"/>\n",
       "<circle clip-path=\"url(#clip2502)\" style=\"fill:#000000; stroke:none; fill-opacity:1\" cx=\"1653.73\" cy=\"933.875\" r=\"18\"/>\n",
       "<circle clip-path=\"url(#clip2502)\" style=\"fill:#e26f46; stroke:none; fill-opacity:1\" cx=\"1653.73\" cy=\"933.875\" r=\"14\"/>\n",
       "<circle clip-path=\"url(#clip2502)\" style=\"fill:#000000; stroke:none; fill-opacity:1\" cx=\"1303.5\" cy=\"722.521\" r=\"18\"/>\n",
       "<circle clip-path=\"url(#clip2502)\" style=\"fill:#e26f46; stroke:none; fill-opacity:1\" cx=\"1303.5\" cy=\"722.521\" r=\"14\"/>\n",
       "<polygon clip-path=\"url(#clip2500)\" points=\"\n",
       "1974.51,312.204 2249.26,312.204 2249.26,130.764 1974.51,130.764 \n",
       "  \" fill=\"#ffffff\" fill-rule=\"evenodd\" fill-opacity=\"1\"/>\n",
       "<polyline clip-path=\"url(#clip2500)\" style=\"stroke:#000000; stroke-width:4; stroke-opacity:1; fill:none\" points=\"\n",
       "  1974.51,312.204 2249.26,312.204 2249.26,130.764 1974.51,130.764 1974.51,312.204 \n",
       "  \"/>\n",
       "<circle clip-path=\"url(#clip2500)\" style=\"fill:#000000; stroke:none; fill-opacity:1\" cx=\"2082.51\" cy=\"191.244\" r=\"25\"/>\n",
       "<circle clip-path=\"url(#clip2500)\" style=\"fill:#009af9; stroke:none; fill-opacity:1\" cx=\"2082.51\" cy=\"191.244\" r=\"21\"/>\n",
       "<g clip-path=\"url(#clip2500)\">\n",
       "<text style=\"fill:#000000; fill-opacity:1; font-family:Arial,Helvetica Neue,Helvetica,sans-serif; font-size:48px; text-anchor:start;\" transform=\"rotate(0, 2166.51, 208.744)\" x=\"2166.51\" y=\"208.744\">C</text>\n",
       "</g>\n",
       "<circle clip-path=\"url(#clip2500)\" style=\"fill:#000000; stroke:none; fill-opacity:1\" cx=\"2082.51\" cy=\"251.724\" r=\"25\"/>\n",
       "<circle clip-path=\"url(#clip2500)\" style=\"fill:#e26f46; stroke:none; fill-opacity:1\" cx=\"2082.51\" cy=\"251.724\" r=\"21\"/>\n",
       "<g clip-path=\"url(#clip2500)\">\n",
       "<text style=\"fill:#000000; fill-opacity:1; font-family:Arial,Helvetica Neue,Helvetica,sans-serif; font-size:48px; text-anchor:start;\" transform=\"rotate(0, 2166.51, 269.224)\" x=\"2166.51\" y=\"269.224\">T</text>\n",
       "</g>\n",
       "</svg>\n"
      ]
     },
     "execution_count": 29,
     "metadata": {},
     "output_type": "execute_result"
    }
   ],
   "source": [
    "scatter(df.x, df.y, group=df.f)"
   ]
  },
  {
   "cell_type": "markdown",
   "metadata": {},
   "source": [
    "箱ひげ図"
   ]
  },
  {
   "cell_type": "code",
   "execution_count": 30,
   "metadata": {},
   "outputs": [
    {
     "name": "stderr",
     "output_type": "stream",
     "text": [
      "┌ Warning: seriestype boxplot has been moved to StatsPlots.  To use: `Pkg.add(\"StatsPlots\"); using StatsPlots`\n",
      "└ @ Plots /Users/hirokinishimoto/.julia/packages/Plots/47Tik/src/args.jl:1055\n",
      "┌ Warning: seriestype boxplot has been moved to StatsPlots.  To use: `Pkg.add(\"StatsPlots\"); using StatsPlots`\n",
      "└ @ Plots /Users/hirokinishimoto/.julia/packages/Plots/47Tik/src/args.jl:1055\n"
     ]
    },
    {
     "ename": "ErrorException",
     "evalue": "The backend must not support the series type Val{:boxplot}, and there isn't a series recipe defined.",
     "output_type": "error",
     "traceback": [
      "The backend must not support the series type Val{:boxplot}, and there isn't a series recipe defined.",
      "",
      "Stacktrace:",
      " [1] error(::String) at ./error.jl:33",
      " [2] apply_recipe(::Dict{Symbol,Any}, ::Type{Val{:boxplot}}, ::Array{String,1}, ::Array{Float64,1}, ::Nothing) at /Users/hirokinishimoto/.julia/packages/RecipesBase/Uz5AO/src/RecipesBase.jl:275",
      " [3] _process_seriesrecipe(::Plots.Plot{Plots.GRBackend}, ::Dict{Symbol,Any}) at /Users/hirokinishimoto/.julia/packages/Plots/47Tik/src/pipeline.jl:408",
      " [4] _plot!(::Plots.Plot{Plots.GRBackend}, ::Dict{Symbol,Any}, ::Tuple{Array{Union{Missing, String},1},Array{Union{Missing, Int64},1}}) at /Users/hirokinishimoto/.julia/packages/Plots/47Tik/src/plot.jl:234",
      " [5] #plot#136(::Base.Iterators.Pairs{Symbol,Any,Tuple{Symbol,Symbol},NamedTuple{(:label, :seriestype),Tuple{String,Symbol}}}, ::Function, ::Array{Union{Missing, String},1}, ::Vararg{Any,N} where N) at /Users/hirokinishimoto/.julia/packages/Plots/47Tik/src/plot.jl:57",
      " [6] (::getfield(RecipesBase, Symbol(\"#kw##plot\")))(::NamedTuple{(:label, :seriestype),Tuple{String,Symbol}}, ::typeof(plot), ::Array{Union{Missing, String},1}, ::Array{Union{Missing, Int64},1}) at ./none:0",
      " [7] #boxplot#412(::Base.Iterators.Pairs{Symbol,String,Tuple{Symbol},NamedTuple{(:label,),Tuple{String}}}, ::Function, ::Array{Union{Missing, String},1}, ::Vararg{Any,N} where N) at /Users/hirokinishimoto/.julia/packages/RecipesBase/Uz5AO/src/RecipesBase.jl:368",
      " [8] (::getfield(Plots, Symbol(\"#kw##boxplot\")))(::NamedTuple{(:label,),Tuple{String}}, ::typeof(boxplot), ::Array{Union{Missing, String},1}, ::Vararg{Any,N} where N) at ./none:0",
      " [9] top-level scope at In[30]:1"
     ]
    }
   ],
   "source": [
    "boxplot(df.f, df.y, label=\"\")"
   ]
  },
  {
   "cell_type": "code",
   "execution_count": null,
   "metadata": {},
   "outputs": [],
   "source": []
  }
 ],
 "metadata": {
  "kernelspec": {
   "display_name": "Julia 1.1.0",
   "language": "julia",
   "name": "julia-1.1"
  },
  "language_info": {
   "file_extension": ".jl",
   "mimetype": "application/julia",
   "name": "julia",
   "version": "1.1.0"
  }
 },
 "nbformat": 4,
 "nbformat_minor": 2
}
